{
 "cells": [
  {
   "cell_type": "code",
   "execution_count": 1,
   "metadata": {},
   "outputs": [],
   "source": [
    "# Import libraries \n",
    "# np, pd, plt,itertools\n",
    "import numpy as np\n",
    "import pandas as pd\n",
    "import matplotlib.pyplot as plt\n",
    "import itertools\n",
    "\n",
    "# sklearn\n",
    "from sklearn.linear_model import LinearRegression, RidgeCV, LassoCV\n",
    "from sklearn.model_selection import KFold, cross_val_score\n",
    "from sklearn.decomposition import PCA\n",
    "from sklearn.cross_decomposition import PLSRegression\n",
    "from sklearn.metrics import mean_squared_error"
   ]
  },
  {
   "cell_type": "markdown",
   "metadata": {},
   "source": [
    "<b><font size = \"4\"> 1. Create data generating process function </font></b>"
   ]
  },
  {
   "cell_type": "code",
   "execution_count": 2,
   "metadata": {},
   "outputs": [],
   "source": [
    "# Latent predictor data generating process\n",
    "def latent(N=200,P=20,K=5):\n",
    "    np.random.seed(1) # fix the simulation results\n",
    "    #N = num. observations\n",
    "    #K = num. predictors\n",
    "    #P = num. observed predictors\n",
    "\n",
    "    Z = np.random.randn(N,K)\n",
    "    gamma = np.random.rand(K,P)\n",
    "    X = np.dot(Z,gamma)+np.random.randn(N,P)\n",
    "    beta = np.ones((K,1))\n",
    "    y = np.dot(Z,beta) + np.random.randn(N,1)\n",
    "    data = pd.DataFrame(np.concatenate((y,X),axis=1))\n",
    "\n",
    "    return data,N,P,Z,X,y"
   ]
  },
  {
   "cell_type": "code",
   "execution_count": 3,
   "metadata": {},
   "outputs": [],
   "source": [
    "# Sparse signal data generating process\n",
    "def sparse(N=200,P=20,K=5):\n",
    "    np.random.seed(1) # fix the simulation results\n",
    "    #N = num. observations\n",
    "    #K = num. predictors\n",
    "    #P = num. observed predictors\n",
    "\n",
    "    X = np.random.randn(N,P)\n",
    "    Z = X[:,:K]\n",
    "    beta = np.ones((K,1))\n",
    "    y = np.dot(Z,beta) + np.random.randn(N,1)\n",
    "    data = pd.DataFrame(np.concatenate((y,X),axis=1))\n",
    "\n",
    "    return data,N,P,Z,X,y"
   ]
  },
  {
   "cell_type": "markdown",
   "metadata": {},
   "source": [
    "<b><font size = \"4\">2. Generate and preprocess data</font></b>"
   ]
  },
  {
   "cell_type": "code",
   "execution_count": 4,
   "metadata": {},
   "outputs": [],
   "source": [
    "# Generate \"Latent\" data\n",
    "data,N,P,Z,X,y = latent(N=1000,P=20,K=5)\n",
    "\n",
    "# Generate \"Sparse\" data\n",
    "#data,N,P,Z,X,y = sparse(N=1000,P=20,K=5)"
   ]
  },
  {
   "cell_type": "code",
   "execution_count": 5,
   "metadata": {},
   "outputs": [],
   "source": [
    "# Split training and test\n",
    "X_train = data.iloc[:int(N/2),1:]\n",
    "y_train = data.iloc[:int(N/2),0]\n",
    "X_test = data.iloc[int(N/2):,1:]\n",
    "y_test = data.iloc[int(N/2):,0]\n",
    "\n",
    "# Standardize X\n",
    "X_train = X_train.sub(np.mean(X_train,axis=0)).div(np.std(X_train,axis=0))\n",
    "X_test = X_test.sub(np.mean(X_test,axis=0)).div(np.std(X_test,axis=0))"
   ]
  },
  {
   "cell_type": "code",
   "execution_count": 6,
   "metadata": {},
   "outputs": [],
   "source": [
    "# Number of columns\n",
    "ncol = len(X_train.iloc[0])"
   ]
  },
  {
   "cell_type": "markdown",
   "metadata": {},
   "source": [
    "<b><font size = \"4\">3. Apply alogrithms</font></b>"
   ]
  },
  {
   "cell_type": "markdown",
   "metadata": {},
   "source": [
    "3.1 Shrinkage"
   ]
  },
  {
   "cell_type": "code",
   "execution_count": 7,
   "metadata": {},
   "outputs": [
    {
     "name": "stdout",
     "output_type": "stream",
     "text": [
      "RidgeCV MSE:  1.18268269518466\n"
     ]
    }
   ],
   "source": [
    "# Ridge CV\n",
    "rcv = RidgeCV(cv=5)\n",
    "rcv = rcv.fit(X_train,y_train)\n",
    "cv_ridge_mse = mean_squared_error(rcv.predict(X_test),y_test)\n",
    "print('RidgeCV MSE: ',cv_ridge_mse)"
   ]
  },
  {
   "cell_type": "code",
   "execution_count": 8,
   "metadata": {},
   "outputs": [
    {
     "name": "stdout",
     "output_type": "stream",
     "text": [
      "LassoCV MSE:  1.1825003367163036\n"
     ]
    }
   ],
   "source": [
    "# Lasso CV\n",
    "lcv = LassoCV(cv=5)\n",
    "lcv = lcv.fit(X_train,y_train)\n",
    "cv_lasso_mse = mean_squared_error(lcv.predict(X_test),y_test)\n",
    "print('LassoCV MSE: ',cv_lasso_mse)"
   ]
  },
  {
   "cell_type": "markdown",
   "metadata": {},
   "source": [
    "3.2 Feature extraction"
   ]
  },
  {
   "cell_type": "code",
   "execution_count": 9,
   "metadata": {},
   "outputs": [
    {
     "name": "stdout",
     "output_type": "stream",
     "text": [
      "PCA CV MSE:  1.188276665535775\n"
     ]
    }
   ],
   "source": [
    "# PCA\n",
    "# Fit and transform PCA \n",
    "pca = PCA(n_components = None)\n",
    "X_train_pca = pca.fit_transform(X_train)\n",
    "X_test_pca = pca.transform(X_test)\n",
    "\n",
    "# Define Kfold\n",
    "kf = KFold(n_splits=5,shuffle=True,random_state=1)\n",
    "\n",
    "# Initalize regressor and MSE\n",
    "regr = LinearRegression()\n",
    "mse = []\n",
    "\n",
    "# Loop for number of variables\n",
    "for i in range(1,ncol+1):\n",
    "    score = -1*cross_val_score(regr,X_train_pca[:,:i+1],y_train,cv=kf,scoring='neg_mean_squared_error').mean()\n",
    "    mse.append(score)\n",
    "\n",
    "# Number of companents with min MSE\n",
    "best_nvar = np.argmin(mse)+1\n",
    "\n",
    "# Obtain OOS MSE\n",
    "regr = regr.fit(X_train_pca[:,:best_nvar+1],y_train)\n",
    "cv_pca_mse = mean_squared_error(y_test,regr.predict(X_test_pca[:,:best_nvar+1]))\n",
    "print('PCA CV MSE: ',cv_pca_mse)"
   ]
  },
  {
   "cell_type": "code",
   "execution_count": 10,
   "metadata": {},
   "outputs": [
    {
     "name": "stdout",
     "output_type": "stream",
     "text": [
      "PLS CV MSE:  1.1830988488733103\n"
     ]
    }
   ],
   "source": [
    "# PLS\n",
    "# Define Kfold\n",
    "kf = KFold(n_splits=5, shuffle=True, random_state=1)\n",
    "\n",
    "# Loop for number of variables\n",
    "for i in range(1, ncol+1):\n",
    "    pls = PLSRegression(n_components=i)\n",
    "    score = cross_val_score(pls,X_train,y_train,cv=kf,scoring='neg_mean_squared_error').mean()\n",
    "    mse.append(-score)\n",
    "\n",
    "# Number of companents with min MSE\n",
    "best_nvar = np.argmin(mse)+1\n",
    "\n",
    "# Obtain OOS MSE\n",
    "pls = PLSRegression(n_components=best_nvar)\n",
    "pls = pls.fit(X_train,y_train)\n",
    "cv_pls_mse = mean_squared_error(y_test,pls.predict(X_test))\n",
    "print('PLS CV MSE: ',cv_pls_mse)  "
   ]
  },
  {
   "cell_type": "markdown",
   "metadata": {},
   "source": [
    "3.3 Feature selection"
   ]
  },
  {
   "cell_type": "code",
   "execution_count": 11,
   "metadata": {},
   "outputs": [],
   "source": [
    "# OOS_MSE function\n",
    "def oos_mse(X_train,X_test,y_train,y_test):\n",
    "    regr = LinearRegression()\n",
    "    regr = regr.fit(X_train,y_train)\n",
    "    mse = mean_squared_error(y_test,regr.predict(X_test))\n",
    "    return mse"
   ]
  },
  {
   "cell_type": "code",
   "execution_count": 12,
   "metadata": {},
   "outputs": [],
   "source": [
    "# Forward stepwise function\n",
    "def forward_stepwise(X_train,X_test,y_train,y_test,nvmax=5,ncv=5,standardize=True):\n",
    "    # Column names\n",
    "    col_name = X_train.columns.values    \n",
    "    \n",
    "    # Standardize X\n",
    "    if standardize:\n",
    "        X_train = X_train.sub(np.mean(X_train,axis=0)).div(np.std(X_train,axis=0))\n",
    "        X_test = X_test.sub(np.mean(X_test,axis=0)).div(np.std(X_test,axis=0))\n",
    "\n",
    "    # Number of columns\n",
    "    ncol = len(X_train.iloc[0])\n",
    "    # Number of rows\n",
    "    nrow = len(y_train)\n",
    "\n",
    "    # Define Kfold\n",
    "    kf = KFold(n_splits=ncv,shuffle=True,random_state=1)\n",
    "    \n",
    "    # Initalize attribute list and MSE\n",
    "    attr = []\n",
    "    mse = []  \n",
    "    \n",
    "    # Create a variable list for variable addition during the loop \n",
    "    remaining = col_name    \n",
    "    \n",
    "    # Forward stepwise loop\n",
    "    regr = LinearRegression()\n",
    "    for i in range(nvmax):\n",
    "        # Intialize temp MSE list for holding the MSE of every trials\n",
    "        temp_mse = [] \n",
    "        for var in remaining:\n",
    "            attr_try = attr + [var]        \n",
    "            score = cross_val_score(regr,X_train[attr_try],y_train,cv=kf,scoring='neg_mean_squared_error').mean()\n",
    "            temp_mse.append(-score)\n",
    "            \n",
    "        best_var_id = np.argmin(temp_mse) # Locate index with lowest MSE\n",
    "        attr.append(remaining[best_var_id]) # Append the best variable to attribute list\n",
    "        remaining = list(set(remaining)-set(attr)) # Update the remaining attributes list \n",
    "        mse.append(np.min(temp_mse)) # Update MSE after adding one more variable\n",
    "    \n",
    "    best_var = attr[:np.argmin(mse)+1]\n",
    "    cv_fw_mse = oos_mse(X_train[best_var],X_test[best_var],y_train,y_test)\n",
    "    return cv_fw_mse"
   ]
  },
  {
   "cell_type": "code",
   "execution_count": 13,
   "metadata": {},
   "outputs": [
    {
     "name": "stdout",
     "output_type": "stream",
     "text": [
      "Forward Selection CV MSE:  1.311129850484197\n"
     ]
    }
   ],
   "source": [
    "# Forward stepwise\n",
    "cv_fw_mse = forward_stepwise(X_train,X_test,y_train,y_test,nvmax=7,ncv=5)\n",
    "print('Forward Selection CV MSE: ',cv_fw_mse)"
   ]
  },
  {
   "cell_type": "code",
   "execution_count": 14,
   "metadata": {},
   "outputs": [],
   "source": [
    "# Best subset function\n",
    "def best_subset(X_train,X_test,y_train,y_test,nvmax=5,ncv=5,standardize=True):\n",
    "    # Column names\n",
    "    col_name = X_train.columns.values    \n",
    "    \n",
    "    # Standardize X\n",
    "    if standardize:\n",
    "        X_train = X_train.sub(np.mean(X_train,axis=0)).div(np.std(X_train,axis=0))\n",
    "        X_test = X_test.sub(np.mean(X_test,axis=0)).div(np.std(X_test,axis=0))\n",
    "\n",
    "    # Number of columns\n",
    "    ncol = len(X_train.iloc[0])\n",
    "    # Number of rows\n",
    "    nrow = len(y_train)\n",
    "\n",
    "    # Define Kfold\n",
    "    kf = KFold(n_splits=ncv,shuffle=True,random_state=1)\n",
    "    \n",
    "    # Initalize attribute list and MSE\n",
    "    attr = []\n",
    "    mse = []  \n",
    "    \n",
    "    # Create a variable list for variable addition during the loop \n",
    "    remaining = col_name    \n",
    "    \n",
    "    # Best subset loop\n",
    "    regr=LinearRegression()\n",
    "    for i in range(nvmax):\n",
    "        for combo in itertools.combinations(col_name, i+1):           \n",
    "            attr.append(list(combo)) #Create a attribute list for all possible combinations of attributes\n",
    "            score = cross_val_score(regr,X_train[list(combo)],y_train,cv=kf,scoring='neg_mean_squared_error').mean()\n",
    "            mse.append(-score)\n",
    "    \n",
    "    best_var = attr[np.argmin(mse)]\n",
    "    cv_bs_mse = oos_mse(X_train[best_var],X_test[best_var],y_train,y_test)\n",
    "    return cv_bs_mse"
   ]
  },
  {
   "cell_type": "code",
   "execution_count": 15,
   "metadata": {},
   "outputs": [
    {
     "name": "stdout",
     "output_type": "stream",
     "text": [
      "BEST SUBSET CV MSE:  1.3193944465999117\n"
     ]
    }
   ],
   "source": [
    "# Best subset\n",
    "cv_bs_mse=best_subset(X_train,X_test,y_train,y_test,nvmax=7,ncv=5)\n",
    "print('BEST SUBSET CV MSE: ',cv_bs_mse)"
   ]
  },
  {
   "cell_type": "markdown",
   "metadata": {},
   "source": [
    "3.4 OLS without dimesnion reduction"
   ]
  },
  {
   "cell_type": "code",
   "execution_count": 16,
   "metadata": {},
   "outputs": [
    {
     "name": "stdout",
     "output_type": "stream",
     "text": [
      "OLS MSE:  1.1830996231146003\n"
     ]
    }
   ],
   "source": [
    "# OLS\n",
    "ols_mse = oos_mse(X_train,X_test,y_train,y_test)\n",
    "print('OLS MSE: ',ols_mse)"
   ]
  },
  {
   "cell_type": "markdown",
   "metadata": {
    "collapsed": true
   },
   "source": [
    "3.5 Oracle (True model)"
   ]
  },
  {
   "cell_type": "code",
   "execution_count": 17,
   "metadata": {},
   "outputs": [
    {
     "name": "stdout",
     "output_type": "stream",
     "text": [
      "ORACLE MSE:  0.9789935606967682\n"
     ]
    }
   ],
   "source": [
    "# Oracle\n",
    "oracle_data = pd.DataFrame(np.hstack((y,Z)))\n",
    "\n",
    "# Split training and test\n",
    "X_train = oracle_data.iloc[:int(N/2),1:]\n",
    "y_train = oracle_data.iloc[:int(N/2),0]\n",
    "X_test = oracle_data.iloc[int(N/2):,1:]\n",
    "y_test = oracle_data.iloc[int(N/2):,0]\n",
    "\n",
    "# Standardize X\n",
    "X_train = X_train.sub(np.mean(X_train,axis=0)).div(np.std(X_train,axis=0))\n",
    "X_test = X_test.sub(np.mean(X_test,axis=0)).div(np.std(X_test,axis=0))\n",
    "\n",
    "# Obtain OOS MSE\n",
    "regr=LinearRegression()\n",
    "regr=regr.fit(X_train,y_train)\n",
    "oracle_mse=mean_squared_error(y_test,regr.predict(X_test))\n",
    "print('ORACLE MSE: ',oracle_mse)"
   ]
  },
  {
   "cell_type": "markdown",
   "metadata": {
    "collapsed": true
   },
   "source": [
    "<b><font size = \"4\">Summary (MSE comparison among different models)<font></b>"
   ]
  },
  {
   "cell_type": "code",
   "execution_count": 18,
   "metadata": {},
   "outputs": [
    {
     "name": "stdout",
     "output_type": "stream",
     "text": [
      "Summary:\n",
      "Oracle              0.978994\n",
      "Lasso               1.182500\n",
      "Ridge               1.182683\n",
      "PLS                 1.183099\n",
      "OLS                 1.183100\n",
      "PCA                 1.188277\n",
      "Forward stepwise    1.311130\n",
      "Best subset         1.319394\n",
      "dtype: float64\n"
     ]
    },
    {
     "data": {
      "image/png": "[encoded data removed]",
      "text/plain": [
       "<matplotlib.figure.Figure at 0x223704f7320>"
      ]
     },
     "metadata": {},
     "output_type": "display_data"
    }
   ],
   "source": [
    "# Summary for model comparison\n",
    "mse_summary = pd.Series({'Ridge':cv_ridge_mse,\n",
    "                         'Lasso':cv_lasso_mse,\n",
    "                         'PCA':cv_pca_mse,\n",
    "                         'PLS':cv_pls_mse,\n",
    "                         'Best subset':cv_bs_mse,\n",
    "                         'Forward stepwise':cv_fw_mse,\n",
    "                         'OLS': ols_mse,'Oracle':oracle_mse}).sort_values()\n",
    "\n",
    "# Print summary\n",
    "print('Summary:')\n",
    "print(mse_summary)\n",
    "\n",
    "# Plot summary\n",
    "mse_summary[::-1].plot(kind='barh')\n",
    "plt.xlabel('Out-of-sample mean square error')\n",
    "plt.title('Model Comparison')\n",
    "plt.show()"
   ]
  }
 ],
 "metadata": {
  "kernelspec": {
   "display_name": "Python 3",
   "language": "python",
   "name": "python3"
  },
  "language_info": {
   "codemirror_mode": {
    "name": "ipython",
    "version": 3
   },
   "file_extension": ".py",
   "mimetype": "text/x-python",
   "name": "python",
   "nbconvert_exporter": "python",
   "pygments_lexer": "ipython3",
   "version": "3.6.4"
  }
 },
 "nbformat": 4,
 "nbformat_minor": 2
}
